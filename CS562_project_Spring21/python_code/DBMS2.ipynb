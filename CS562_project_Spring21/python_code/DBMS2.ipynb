{
 "cells": [
  {
   "cell_type": "code",
   "execution_count": 1,
   "metadata": {},
   "outputs": [
    {
     "name": "stdout",
     "output_type": "stream",
     "text": [
      "Requirement already satisfied: psycopg2 in d:\\program files\\python\\anaconda3\\lib\\site-packages (2.8.6)\n"
     ]
    }
   ],
   "source": [
    "!pip install psycopg2"
   ]
  },
  {
   "cell_type": "code",
   "execution_count": 2,
   "metadata": {},
   "outputs": [],
   "source": [
    "import re\n",
    "import psycopg2\n",
    "import numpy as np\n",
    "import itertools\n",
    "from itertools import combinations_with_replacement as cmb"
   ]
  },
  {
   "cell_type": "code",
   "execution_count": 3,
   "metadata": {},
   "outputs": [
    {
     "name": "stdout",
     "output_type": "stream",
     "text": [
      "['SELECTATTRIBUTE(S)', '\\ncust,prod,1_sum_quant,1_count_quant,1_avg_quant,2_sum_quant,3_sum_quant\\nNUMBEROFGROUPINGVARIABLES(n)', '\\n1,2,3\\nGROUPINGATTRIBUTES(V)', '\\ncust,prod\\nF', 'VECT([F])', '\\n1_sum_quant,1_avg_quant,2_avg_quant,3_sum_quant,3_avg_quant,3_sum_quant\\nSELECTCONDITION', 'VECT([Ïƒ])', \"\\n1.cust=custand1.state='NY'\\n2.cust=custand2.state='CT'\\n3.cust=custand3.state='NJ'\\nHAVING_CONDITION(G)\", '\\n1_avg_quant>2_avg_quantand1_avg_quant>=3_avg_quant']\n"
     ]
    }
   ],
   "source": [
    "#we need to mannually write input text file name\n",
    "f = open(\"input1.txt\", \"r\")\n",
    "data = f.read()\n",
    "\n",
    "myarray = []\n",
    "myarr = re.split('[-:]',data)\n",
    "for i in myarr:\n",
    "    j = i.replace(' ','')\n",
    "    myarray.append(j)\n",
    "S1 = [myarray[1].strip('\\nNUMBER OF GROUPING VARIABLES(n)')]\n",
    "n1 = [myarray[2].strip('\\nGROUPING ATTRIBUTES(V)')]\n",
    "V1 = [myarray[3].strip('\\n3\\nGROUPING ATTRIBUTES(V)\\nF')]\n",
    "F1 = [myarray[5].strip('\\nSELECT CONDITION')]\n",
    "C1 = [myarray[7].strip('\\nHAVING_CONDITION(G)')]\n",
    "G = [myarray[8].strip('\\nHAVING_CONDITION(G)')]\n",
    "#if no having clause we need to initialize G as '' and comment the G = [myarray[8].strip('\\nHAVING_CONDITION(G)')]\n",
    "# G = ''\n",
    "print(myarray)\n"
   ]
  },
  {
   "cell_type": "code",
   "execution_count": 4,
   "metadata": {},
   "outputs": [
    {
     "data": {
      "text/plain": [
       "['cust,prod,1_sum_quant,1_count_quant,1_avg_quant,2_sum_quant,3_sum_quant']"
      ]
     },
     "execution_count": 4,
     "metadata": {},
     "output_type": "execute_result"
    }
   ],
   "source": [
    "S1"
   ]
  },
  {
   "cell_type": "code",
   "execution_count": 5,
   "metadata": {},
   "outputs": [
    {
     "name": "stdout",
     "output_type": "stream",
     "text": [
      "['cust', 'prod', '1_sum_quant', '1_count_quant', '1_avg_quant', '2_sum_quant', '3_sum_quant']\n"
     ]
    }
   ],
   "source": [
    "S=[]\n",
    "for i in S1:\n",
    " S +=i.split(\",\")\n",
    "print(S)"
   ]
  },
  {
   "cell_type": "code",
   "execution_count": 6,
   "metadata": {},
   "outputs": [
    {
     "name": "stdout",
     "output_type": "stream",
     "text": [
      "['1', '2', '3']\n"
     ]
    }
   ],
   "source": [
    "n=[]\n",
    "for i in n1:\n",
    "     n +=i.split(\",\")\n",
    "print(n)  \n",
    "    "
   ]
  },
  {
   "cell_type": "code",
   "execution_count": 7,
   "metadata": {},
   "outputs": [
    {
     "name": "stdout",
     "output_type": "stream",
     "text": [
      "['cust', 'prod']\n"
     ]
    }
   ],
   "source": [
    "V = []\n",
    "for i in V1:\n",
    "    V +=i.split(\",\")\n",
    "print(V)"
   ]
  },
  {
   "cell_type": "code",
   "execution_count": 8,
   "metadata": {},
   "outputs": [
    {
     "name": "stdout",
     "output_type": "stream",
     "text": [
      "['1_sum_quant', '1_avg_quant', '2_avg_quant', '3_sum_quant', '3_avg_quant', '3_sum_quant']\n"
     ]
    }
   ],
   "source": [
    "F=[]\n",
    "for i in F1:\n",
    " F +=i.split(\",\")\n",
    "print(F)"
   ]
  },
  {
   "cell_type": "code",
   "execution_count": 9,
   "metadata": {},
   "outputs": [
    {
     "data": {
      "text/plain": [
       "[\"1.cust=custand1.state='NY'\",\n",
       " \"2.cust=custand2.state='CT'\",\n",
       " \"3.cust=custand3.state='NJ'\"]"
      ]
     },
     "execution_count": 9,
     "metadata": {},
     "output_type": "execute_result"
    }
   ],
   "source": [
    "C = re.split('[-\\n]',C1[0])\n",
    "(C)\n"
   ]
  },
  {
   "cell_type": "code",
   "execution_count": null,
   "metadata": {},
   "outputs": [],
   "source": []
  },
  {
   "cell_type": "code",
   "execution_count": null,
   "metadata": {},
   "outputs": [],
   "source": []
  },
  {
   "cell_type": "code",
   "execution_count": 10,
   "metadata": {},
   "outputs": [
    {
     "name": "stdout",
     "output_type": "stream",
     "text": [
      "'sales' table\n",
      "ATTRIBUTES     DTYPE          \n",
      "- month        integer        \n",
      "- day          integer        \n",
      "- year         integer        \n",
      "- quant        integer        \n",
      "- prod         character varying\n",
      "- state        character      \n",
      "- cust         character varying\n"
     ]
    }
   ],
   "source": [
    "table = \"sales\"\n",
    "dbname = \"DBMS2\"\n",
    "host = \"localhost\"\n",
    "user = \"postgres\"\n",
    "password = \"yash1712\"\n",
    "port = \"5432\"\n",
    "try:\n",
    "    connection = psycopg2.connect(user=user, password=password, host=host, port=port, database=dbname)\n",
    "    query = \"SELECT column_name, data_type FROM information_schema.columns WHERE table_name = '\" + table + \"';\"\n",
    "    pointer = connection.cursor()\n",
    "    pointer.execute(query)\n",
    "    if pointer.rowcount == 0:\n",
    "            print(\"Database is Connected yipee %s \" % table)\n",
    "            sys.exit(0)\n",
    "    schema = pointer.fetchall()\n",
    "except(Exception, psycopg2.Error) as error:\n",
    "            print(\"Connection failed !\", error)\n",
    "            sys.exit(0)\n",
    "            \n",
    "print(\"'%s' table\" % format(table))\n",
    "\n",
    "print(\"ATTRIBUTES\".ljust(14, \" \"), \"DTYPE\".ljust(15, \" \"))\n",
    "for i in schema:\n",
    "    print(\"-\", i[0].ljust(12, \" \"), i[1].ljust(15, \" \"))\n"
   ]
  },
  {
   "cell_type": "code",
   "execution_count": 11,
   "metadata": {},
   "outputs": [],
   "source": [
    "PG_log_info = {'user':user, 'password':password,'host':host, 'port':port, 'database':dbname}\n",
    "initial_list=['user', 'password', 'host', 'port', 'database']"
   ]
  },
  {
   "cell_type": "code",
   "execution_count": 12,
   "metadata": {},
   "outputs": [],
   "source": [
    "schema=[('cust', 'character varying'),('prod', 'character varying'),('day', 'integer'),('month', 'integer'),('year', 'integer'),('state', 'character'),('quant', 'integer')]"
   ]
  },
  {
   "cell_type": "code",
   "execution_count": 13,
   "metadata": {},
   "outputs": [
    {
     "data": {
      "text/plain": [
       "[('cust', 'character varying'),\n",
       " ('prod', 'character varying'),\n",
       " ('day', 'integer'),\n",
       " ('month', 'integer'),\n",
       " ('year', 'integer'),\n",
       " ('state', 'character'),\n",
       " ('quant', 'integer')]"
      ]
     },
     "execution_count": 13,
     "metadata": {},
     "output_type": "execute_result"
    }
   ],
   "source": [
    "schema"
   ]
  },
  {
   "cell_type": "code",
   "execution_count": null,
   "metadata": {},
   "outputs": [],
   "source": []
  },
  {
   "cell_type": "code",
   "execution_count": 14,
   "metadata": {},
   "outputs": [
    {
     "name": "stdout",
     "output_type": "stream",
     "text": [
      "['cust', 'prod', 'day', 'month', 'year', 'state', 'quant']\n"
     ]
    }
   ],
   "source": [
    "Tcolumns = []\n",
    "for x in schema:\n",
    "    Tcolumns.append(x[0])\n",
    "print(Tcolumns)"
   ]
  },
  {
   "cell_type": "code",
   "execution_count": 15,
   "metadata": {},
   "outputs": [
    {
     "name": "stdout",
     "output_type": "stream",
     "text": [
      "['cust', 'prod']\n"
     ]
    }
   ],
   "source": [
    "Vcolumns=[]\n",
    "for i in V:\n",
    "     Vcolumns +=i.split(\",\")\n",
    "        \n",
    "\n",
    "print(Vcolumns)"
   ]
  },
  {
   "cell_type": "code",
   "execution_count": 16,
   "metadata": {},
   "outputs": [
    {
     "data": {
      "text/plain": [
       "['cust',\n",
       " 'prod',\n",
       " '1_sum_quant',\n",
       " '1_avg_quant',\n",
       " '1_sum_quant',\n",
       " '1_count_quant',\n",
       " '2_avg_quant',\n",
       " '2_sum_quant',\n",
       " '2_count_quant',\n",
       " '3_sum_quant',\n",
       " '3_avg_quant',\n",
       " '3_sum_quant',\n",
       " '3_count_quant',\n",
       " '3_sum_quant']"
      ]
     },
     "execution_count": 16,
     "metadata": {},
     "output_type": "execute_result"
    }
   ],
   "source": [
    "Mfcolumns = []\n",
    "for i in Vcolumns:\n",
    "    Mfcolumns.append(i)\n",
    "    if \"avg\" in i:\n",
    "        Mfcolumns.append(i.replace('avg','sum'))\n",
    "        Mfcolumns.append(i.replace('avg','count'))\n",
    "    \n",
    "for x in F:\n",
    "    Mfcolumns.append(x)\n",
    "    if \"avg\" in x:\n",
    "        Mfcolumns.append(x.replace('avg','sum'))\n",
    "        Mfcolumns.append(x.replace('avg','count'))\n",
    "Mfcolumns\n"
   ]
  },
  {
   "cell_type": "code",
   "execution_count": 17,
   "metadata": {},
   "outputs": [
    {
     "data": {
      "text/plain": [
       "{'cust': '',\n",
       " 'prod': '',\n",
       " '1_sum_quant': 0.0,\n",
       " '1_avg_quant': 0.0,\n",
       " '1_count_quant': 0,\n",
       " '2_avg_quant': 0.0,\n",
       " '2_sum_quant': 0.0,\n",
       " '2_count_quant': 0,\n",
       " '3_sum_quant': 0.0,\n",
       " '3_avg_quant': 0.0,\n",
       " '3_count_quant': 0}"
      ]
     },
     "execution_count": 17,
     "metadata": {},
     "output_type": "execute_result"
    }
   ],
   "source": [
    "Mfdata = {}\n",
    "Mfdata1={}\n",
    "for i in Mfcolumns:\n",
    "    if('count' in i):\n",
    "       \n",
    "        Mfdata[i] = 0\n",
    "    elif('quant' in i):\n",
    "        Mfdata[i] = 0.0\n",
    "    else:\n",
    "        Mfdata[i] = ''\n",
    "        \n",
    "\n",
    "Mfdata\n",
    "        \n",
    "\n",
    "        "
   ]
  },
  {
   "cell_type": "code",
   "execution_count": 18,
   "metadata": {},
   "outputs": [
    {
     "data": {
      "text/plain": [
       "[['1.cust=cust', \"1.state='NY'\"],\n",
       " ['2.cust=cust', \"2.state='CT'\"],\n",
       " ['3.cust=cust', \"3.state='NJ'\"]]"
      ]
     },
     "execution_count": 18,
     "metadata": {},
     "output_type": "execute_result"
    }
   ],
   "source": [
    "\n",
    "\n",
    "Ccolumns = [row.strip().split(\"and\") for row in C if len(row) > 2]\n",
    "Ccolumns"
   ]
  },
  {
   "cell_type": "code",
   "execution_count": 19,
   "metadata": {},
   "outputs": [],
   "source": [
    "# selection format\n",
    "prinitngFormat = {\"''\": \"{:<12}\", 0: \"{:>17}\", 0.0: \"{:>17}\"}\n",
    "Tableformatting = \"print('='*100)\\n\"\n",
    "format_ = \"print('{:<8}|\"\n",
    "cols = \"'.format('index'\"\n",
    "# getting MFdata\n",
    "for col in S:\n",
    "    try: \n",
    "        format_ += prinitngFormat[MF_dtypes[i]] + '|'\n",
    "        cols += \",'\" + col + \"'\"\n",
    "    except:\n",
    "        format_ += prinitngFormat[0] + '|'\n",
    "        cols += \",'\" + col + \"'\"\n",
    "Tableformatting += format_ + cols + '))\\n' + \"print('='*100)\\n\""
   ]
  },
  {
   "cell_type": "code",
   "execution_count": 20,
   "metadata": {},
   "outputs": [
    {
     "name": "stdout",
     "output_type": "stream",
     "text": [
      "\n",
      "try:\n",
      "    connection = psycopg2.connect(user='postgres', password='yash1712', host='localhost', port='5432', database='DBMS2', )\n",
      "    query = \"SELECT * FROM sales\"\n",
      "    pointer = connection.cursor()\n",
      "    pointer.execute(query)\n",
      "    if (pointer.rowcount) == 0:\n",
      "        print(\"Connection failed !\")\n",
      "        sys.exit(0)\n",
      "                    \n",
      "    dataItems = pointer.fetchall()\n",
      "except(Exception, psycopg2.Error) as error:\n",
      "    print(\"Connection failed to database ==>\", error)\n",
      "    sys.exit(0)\n",
      "\n",
      "                    \n"
     ]
    }
   ],
   "source": [
    "import_text = 'import psycopg2\\nimport sys\\nfrom collections import defaultdict'\n",
    "mylist = list(PG_log_info.keys())\n",
    "connection = '\\ntry:\\n    connection = psycopg2.connect('\n",
    "for i in mylist:\n",
    "    connection += str(i) + \"='\" + str(PG_log_info[i]) + \"', \"\n",
    "connection += ''')\\n    query = \"SELECT * FROM sales\"\\n    pointer = connection.cursor()\\n    pointer.execute(query)\\n    if (pointer.rowcount) == 0:\\n        print(\"Connection failed !\")\\n        sys.exit(0)\n",
    "                    \\n    dataItems = pointer.fetchall()\\nexcept(Exception, psycopg2.Error) as error:\\n    print(\"Connection failed to database ==>\", error)\\n    sys.exit(0)\\n\n",
    "                    '''\n",
    "\n",
    "print(connection)"
   ]
  },
  {
   "cell_type": "code",
   "execution_count": 21,
   "metadata": {},
   "outputs": [
    {
     "name": "stdout",
     "output_type": "stream",
     "text": [
      "MFVector = defaultdict(lambda: {'cust': '', 'prod': '', '1_sum_quant': 0.0, '1_avg_quant': 0.0, '1_count_quant': 0, '2_avg_quant': 0.0, '2_sum_quant': 0.0, '2_count_quant': 0, '3_sum_quant': 0.0, '3_avg_quant': 0.0, '3_count_quant': 0})\n",
      "MF_idx=0\n",
      "MFMap = {}\n",
      "\n"
     ]
    }
   ],
   "source": [
    "MFVector = \"MFVector = defaultdict(lambda: \"\n",
    "MFVector +=  str(Mfdata) + ', '\n",
    "MFVector = MFVector[:-2] + ')\\n' \n",
    "MFVector += 'MF_idx=0\\nMFMap = {}\\n'\n",
    "print(MFVector)\n",
    "\n",
    "\n"
   ]
  },
  {
   "cell_type": "code",
   "execution_count": 22,
   "metadata": {},
   "outputs": [
    {
     "name": "stdout",
     "output_type": "stream",
     "text": [
      "for i in range(len(dataItems)):\n",
      "\ttemp = {x[0]:x[1] for x in zip(['cust', 'prod', 'day', 'month', 'year', 'state', 'quant'],dataItems[i])}\n",
      "\n",
      "\tchecker =str(temp['cust'])+str(temp['prod'])\n",
      "\tif (MFMap.get(checker))== None:\n",
      "\t\tMFVector[MF_idx]['cust']=temp['cust']\n",
      "\t\tMFVector[MF_idx]['prod']=temp['prod']\n",
      "\t\tMFMap[str(temp['cust'])]=MF_idx\n",
      "\t\tMFMap[str(temp['cust']) + str(temp['prod'])]=MF_idx\n",
      "\t\tMFMap[str(temp['prod']) + str(temp['cust'])]=MF_idx\n",
      "\t\tMFMap[str(temp['prod'])]=MF_idx\n",
      "\t\tMF_idx+=1 # new idx\n",
      "\n",
      "\n"
     ]
    }
   ],
   "source": [
    "\n",
    "d = \"for i in range(len(dataItems)):\\n\\ttemp = {x[0]:x[1] for x in zip(\" + str(Tcolumns) + \",dataItems[i])}\\n\" + \"\\n\\tchecker =\"+\"+\".join(['str(temp' + str([i]) + \")\" for i in Vcolumns])+ \"\\n\"\n",
    "Mfmapinitial = []\n",
    "Mfmapinitial.append(\"\\tif (\" + \"MFMap.get(checker)\" + \")== None:\\n\")\n",
    "Mfmapinitial.append( \"\\t\\t\" + \"\\n\\t\\t\".join(['MFVector[MF_idx]' + str([i]) + '=temp' + str([i]) for i in Vcolumns]) + '\\n')\n",
    "\n",
    "for k in cmb(Vcolumns, len(Vcolumns)):\n",
    "    t = '\\t\\tMFMap['\n",
    "    if len(set(k)) > 1:\n",
    "            t = '\\t\\tMFMap[' \n",
    "            t += \" + \".join(['str(temp' + str([j]) + \")\" for j in list(k)])   \n",
    "            t += ']=MF_idx\\n'\n",
    "            t += '\\t\\tMFMap['  \n",
    "            t += \" + \".join(['str(temp' + str([j]) + \")\" for j in list(k)[::-1]])   \n",
    "            t += ']=MF_idx\\n'\n",
    "    else:  \n",
    "        t += 'str(temp' + str(list(set(k))) + \")\"  \n",
    "        t += ']=MF_idx\\n'\n",
    "    Mfmapinitial.append(t)\n",
    "\n",
    "MfMap = d + \"\".join(Mfmapinitial) + \"\\t\\tMF_idx+=1 # new idx\\n\\n\"  \n",
    "\n",
    "print(MfMap)\n",
    "            "
   ]
  },
  {
   "cell_type": "code",
   "execution_count": 23,
   "metadata": {},
   "outputs": [
    {
     "data": {
      "text/plain": [
       "['prod', 'prod']"
      ]
     },
     "execution_count": 23,
     "metadata": {},
     "output_type": "execute_result"
    }
   ],
   "source": [
    "list(k)"
   ]
  },
  {
   "cell_type": "code",
   "execution_count": null,
   "metadata": {},
   "outputs": [],
   "source": []
  },
  {
   "cell_type": "code",
   "execution_count": 24,
   "metadata": {
    "scrolled": true
   },
   "outputs": [
    {
     "name": "stdout",
     "output_type": "stream",
     "text": [
      "for groupingvariable in ['1', '2', '3']:\n",
      "\tif (groupingvariable) == '1':\n",
      "\t\tfor i in range(len(dataItems)):\n",
      "\t\t\ttemp = {x[0]:x[1] for x in zip(['cust', 'prod', 'day', 'month', 'year', 'state', 'quant'],dataItems[i])}\n",
      "\t\t\tindex = MFMap[str(temp['cust'])]\n",
      "\t\t\tif ((temp['cust']==MFVector[index]['cust']) and (temp['state']=='NY')):\n",
      "\t\t\t\tMFVector[index]['1_count_quant']+=1\n",
      "\t\t\t\tMFVector[index]['1_sum_quant']+=temp['quant']\n",
      "\t\t\t\tMFVector[index]['1_avg_quant']=MFVector[index]['1_sum_quant']/MFVector[index]['1_count_quant']\n",
      "\n",
      "\tif (groupingvariable) == '2':\n",
      "\t\tfor i in range(len(dataItems)):\n",
      "\t\t\ttemp = {x[0]:x[1] for x in zip(['cust', 'prod', 'day', 'month', 'year', 'state', 'quant'],dataItems[i])}\n",
      "\t\t\tindex = MFMap[str(temp['cust'])]\n",
      "\t\t\tif ((temp['cust']==MFVector[index]['cust']) and (temp['state']=='CT')):\n",
      "\t\t\t\tMFVector[index]['2_count_quant']+=1\n",
      "\t\t\t\tMFVector[index]['2_sum_quant']+=temp['quant']\n",
      "\t\t\t\tMFVector[index]['2_avg_quant']=MFVector[index]['2_sum_quant']/MFVector[index]['2_count_quant']\n",
      "\n",
      "\tif (groupingvariable) == '3':\n",
      "\t\tfor i in range(len(dataItems)):\n",
      "\t\t\ttemp = {x[0]:x[1] for x in zip(['cust', 'prod', 'day', 'month', 'year', 'state', 'quant'],dataItems[i])}\n",
      "\t\t\tindex = MFMap[str(temp['cust'])]\n",
      "\t\t\tif ((temp['cust']==MFVector[index]['cust']) and (temp['state']=='NJ')):\n",
      "\t\t\t\tMFVector[index]['3_count_quant']+=1\n",
      "\t\t\t\tMFVector[index]['3_sum_quant']+=temp['quant']\n",
      "\t\t\t\tMFVector[index]['3_avg_quant']=MFVector[index]['3_sum_quant']/MFVector[index]['3_count_quant']\n",
      "\n",
      "\n"
     ]
    }
   ],
   "source": [
    "logic_map = {\">=\": \" >= \", \"<=\": \" <= \", \"=\": \" == \", \"<>\": ' != ', \">\": \" > \", \"<\": \" < \"}\n",
    "MF_update = \"for groupingvariable in \" + str(n) + \":\\n\"\n",
    "d2 = \"\\t\\tfor i in range(len(dataItems)):\\n\\t\\t\\ttemp = {x[0]:x[1] for x in zip(\" + str(Tcolumns) + \",dataItems[i])}\\n\"\n",
    "for first in range(len(n)):\n",
    "    Map_index = '\\t\\t\\tindex = MFMap['\n",
    "    indexing_cols = []\n",
    "    Condition = '\\t\\t\\tif ('\n",
    "    conditioning_cols = []\n",
    "    Update = ''\n",
    "    updating_cols = []\n",
    "    res = []\n",
    "    for piece in Ccolumns[first]:\n",
    "        if ('=' in piece) and (\">=\" not in piece) and (\"<=\" not in piece):  \n",
    "            t = piece.split(\"=\")[-1].strip()\n",
    "          \n",
    "            if t in Vcolumns:  \n",
    "                indexing_cols.append(\"str(temp['\" + t + \"'])\") \n",
    "                t = ''\n",
    "        for key in logic_map.keys(): \n",
    "            \n",
    "            if key in piece:  \n",
    "                x = [i.strip() for i in piece.replace(key, logic_map[key]).split(\" \") if len(i.strip()) >= 1] \n",
    "                \n",
    "                \n",
    "                break  # only replace once\n",
    "\n",
    "        if x[2] in Vcolumns: \n",
    "                \n",
    "            conditioning_cols.append(\"(temp['\" + x[0][(x[0].find('.') + 1):] + \"']\" + x[1] + \"MFVector[index][\" + \"'\" + x[2] + \"'])\")  \n",
    "        else:\n",
    "                \n",
    "                \n",
    "            conditioning_cols.append(\"(temp['\" + x[0][(x[0].find('.') + 1):] + \"']\" + x[1] + x[2] + \")\")  \n",
    "                \n",
    "    \n",
    "    agg_cols = [col for col in Mfcolumns if (n[first]) == col[0]] \n",
    "    \n",
    "    gv_attrs_set = list(set([gv_attrs.split('_')[2] for gv_attrs in agg_cols]))  \n",
    "    for attrs in gv_attrs_set:  \n",
    "        agg_attr_cols = [each for each in agg_cols if each.find(attrs) > 1]\n",
    "        updating_col = []  \n",
    "        for agg_col in agg_attr_cols:\n",
    "            \n",
    "            y = agg_col.split('_')  \n",
    "            \n",
    "            if 'avg' == y[-2]:\n",
    "                updating_col = [] \n",
    "                updating_col.append(\"\\t\\t\\t\\tMFVector[index]['\" + agg_col.replace('avg', 'count') + \"']+=1\\n\")\n",
    "                updating_col.append( \"\\t\\t\\t\\tMFVector[index]['\" + agg_col.replace('avg', 'sum') + \"']+=\" + \"temp['\" + y[-1] + \"']\\n\")\n",
    "                updating_col.append(\"\\t\\t\\t\\tMFVector[index]['\" + agg_col + \"']=\" + \"MFVector[index]['\" + agg_col.replace('avg','sum') + \"']\"+ '/' + \"MFVector[index]['\" + agg_col.replace('avg', 'count') + \"']\\n\")\n",
    "                \n",
    "                break\n",
    "                \n",
    "            elif ('sum' == y[-2]):\n",
    "                \n",
    "                updating_col.append(\"\\t\\t\\t\\tMFVector[index]['\" + agg_col.replace('avg', 'sum') + \"']+=\" + \"temp['\" + y[-1] + \"']\\n\")\n",
    "            elif ('count' == y[-2]):\n",
    "                updating_col.append(\"\\t\\t\\t\\tMFVector[index]['\" + agg_col.replace('avg', 'count') + \"']+=1\\n\")\n",
    "            else:\n",
    "                print(\":< Some error occured\", y[-2])\n",
    "        updating_cols.extend(updating_col)\n",
    "    gv_judge = \"\\tif (groupingvariable) == \" + str(\"'\" + n[first] + \"'\") + \":\\n\"\n",
    "    Map_index += \"+\".join(indexing_cols) + \"]\\n\"  \n",
    "    Condition += \" and \".join(conditioning_cols) + \"):\\n\"  \n",
    "    Update += \"\".join(updating_cols) + \"\\n\"\n",
    "    first_d = gv_judge + d2 + Map_index + Condition + Update\n",
    "\n",
    "    MF_update += first_d\n",
    "print(MF_update)"
   ]
  },
  {
   "cell_type": "code",
   "execution_count": 25,
   "metadata": {},
   "outputs": [],
   "source": [
    "def havingfunction(x):\n",
    "    out = []\n",
    "    for frac in x:  \n",
    "        if (\"_\" in frac) and len(re.findall('(\\w+)[\\+\\-\\/\\*]', frac)) >= 1:\n",
    "            col = re.findall('(\\w+)[\\+\\-\\/\\*]', frac)[0] \n",
    "            compute_symbol = re.findall('[\\+\\-\\/\\*]', frac)\n",
    "            suffix = frac[len(col) + 1::]  \n",
    "            if re.findall('[\\D]+', suffix):  \n",
    "                out.extend([\"MFVector[index]['\" + col + \"']\" + compute_symbol[0] + \"MFVector[index]['\" + suffix + \"']\"])\n",
    "            else:  \n",
    "                out.extend([\"MFVector[index]['\" + col + \"']\" + compute_symbol[0] + suffix])\n",
    "        elif (\"_\" in frac):  \n",
    "            out.extend([\"MFVector[index]['\" + frac + \"']\"])\n",
    "        else:  \n",
    "            out.append(frac)\n",
    "    return \"\".join(out)"
   ]
  },
  {
   "cell_type": "code",
   "execution_count": 26,
   "metadata": {},
   "outputs": [],
   "source": [
    "def having_function(H_F):\n",
    "    having = []\n",
    "    for x in H_F[0].split('and'):\n",
    "        piece = x[:]\n",
    "        for key in logic_map.keys():  \n",
    "            if key in piece:  \n",
    "                j = [i.strip() for i in piece.replace(key, logic_map[key]).split(\" \") if len(i.strip()) >= 1]\n",
    "               \n",
    "                break  \n",
    "        \n",
    "        out = havingfunction(j)\n",
    "        having.append(\"\".join(out))  \n",
    "    return \" and \".join(having)\n"
   ]
  },
  {
   "cell_type": "code",
   "execution_count": 27,
   "metadata": {},
   "outputs": [
    {
     "name": "stdout",
     "output_type": "stream",
     "text": [
      "output=0\n",
      "for index in range(len(MFVector)):\n",
      "\t if MFVector[index]['1_avg_quant']>MFVector[index]['2_avg_quant'] and MFVector[index]['1_avg_quant']>=MFVector[index]['3_avg_quant']:\n",
      "\t\t\toutput += 1\n",
      "\t\t\tprint(end='{:<6}|'.format(output))\n",
      "\n"
     ]
    }
   ],
   "source": [
    "if(G != ''):\n",
    "    havingoutput = 'output=0\\n'\n",
    "    havingoutput += \"for index in range(len(MFVector)):\\n\"\n",
    "    havingoutput += \"\\t if \" + having_function(G) + \":\\n\"\n",
    "    havingoutput += \"\\t\\t\\toutput += 1\\n\"\n",
    "    havingoutput += \"\\t\\t\\tprint(end='{:<6}|'.format(output))\\n\"\n",
    "    print(havingoutput)"
   ]
  },
  {
   "cell_type": "code",
   "execution_count": 28,
   "metadata": {},
   "outputs": [
    {
     "name": "stdout",
     "output_type": "stream",
     "text": [
      "\t\t\tprint('{:<17}|'.format(MFVector[index]['cust']), end='')\n",
      "\t\t\tprint('{:<17}|'.format(MFVector[index]['prod']), end='')\n",
      "\t\t\tprint('{:>17.2f}|'.format(MFVector[index]['1_sum_quant']), end='')\n",
      "\t\t\tprint('{:>17.0f}|'.format(MFVector[index]['1_count_quant']), end='')\n",
      "\t\t\tprint('{:>17.2f}|'.format(MFVector[index]['1_avg_quant']), end='')\n",
      "\t\t\tprint('{:>17.2f}|'.format(MFVector[index]['2_sum_quant']), end='')\n",
      "\t\t\tprint('{:>17.2f}|'.format(MFVector[index]['3_sum_quant']), end='')\n",
      "\t\t\tprint('')\n"
     ]
    }
   ],
   "source": [
    "        \n",
    "Selection_text = ''\n",
    "for col in S:\n",
    "    try:  \n",
    "        \n",
    "        if type(Mfdata[col]) == str:\n",
    "            Selection_text += \"\\t\\t\\tprint('{:<17}|'.format(MFVector[index]['\" + col + \"']), end='')\\n\"\n",
    "        elif (type(Mfdata[col]) == float):\n",
    "            Selection_text += \"\\t\\t\\tprint('{:>17.2f}|'.format(MFVector[index]['\" + col + \"']), end='')\\n\"\n",
    "        elif (type(Mfdata[col]) == int):\n",
    "            Selection_text += \"\\t\\t\\tprint('{:>17.0f}|'.format(MFVector[index]['\" + col + \"']), end='')\\n\"\n",
    "        \n",
    "    except:  # the combined output\n",
    "        Selection_text += \"\\t\\t\\tprint('{:>17.2f}|'.format(\" + havingfunction([col]) + \"), end='')\\n\"  # it can only process list\n",
    "\n",
    "Selection_text += \"\\t\\t\\tprint('')\"\n",
    "\n",
    "print(Selection_text)"
   ]
  },
  {
   "cell_type": "code",
   "execution_count": 29,
   "metadata": {},
   "outputs": [],
   "source": [
    "myresult = '# Import and Connecting DB\\n'\n",
    "myresult += import_text + '\\n'\n",
    "myresult += connection + '\\n'\n",
    "myresult += '# Initializing MF_Vector\\n'\n",
    "myresult += MFVector  + '\\n'\n",
    "myresult += '# Initializing Map for MF_Structure\\n'\n",
    "myresult += MfMap + '\\n'\n",
    "myresult += '# Updating for MF_Structure\\n'\n",
    "myresult += MF_update + '\\n'\n",
    "myresult += '# Outputing\\n'\n",
    "myresult += Tableformatting\n",
    "myresult += '# Having\\n'\n",
    "if(G != ''):\n",
    "    myresult += havingoutput + '\\n'\n",
    "myresult += Selection_text + '\\n'"
   ]
  },
  {
   "cell_type": "code",
   "execution_count": 30,
   "metadata": {
    "scrolled": true
   },
   "outputs": [
    {
     "name": "stdout",
     "output_type": "stream",
     "text": [
      "# Import and Connecting DB\n",
      "import psycopg2\n",
      "import sys\n",
      "from collections import defaultdict\n",
      "\n",
      "try:\n",
      "    connection = psycopg2.connect(user='postgres', password='yash1712', host='localhost', port='5432', database='DBMS2', )\n",
      "    query = \"SELECT * FROM sales\"\n",
      "    pointer = connection.cursor()\n",
      "    pointer.execute(query)\n",
      "    if (pointer.rowcount) == 0:\n",
      "        print(\"Connection failed !\")\n",
      "        sys.exit(0)\n",
      "                    \n",
      "    dataItems = pointer.fetchall()\n",
      "except(Exception, psycopg2.Error) as error:\n",
      "    print(\"Connection failed to database ==>\", error)\n",
      "    sys.exit(0)\n",
      "\n",
      "                    \n",
      "# Initializing MF_Vector\n",
      "MFVector = defaultdict(lambda: {'cust': '', 'prod': '', '1_sum_quant': 0.0, '1_avg_quant': 0.0, '1_count_quant': 0, '2_avg_quant': 0.0, '2_sum_quant': 0.0, '2_count_quant': 0, '3_sum_quant': 0.0, '3_avg_quant': 0.0, '3_count_quant': 0})\n",
      "MF_idx=0\n",
      "MFMap = {}\n",
      "\n",
      "# Initializing Map for MF_Structure\n",
      "for i in range(len(dataItems)):\n",
      "\ttemp = {x[0]:x[1] for x in zip(['cust', 'prod', 'day', 'month', 'year', 'state', 'quant'],dataItems[i])}\n",
      "\n",
      "\tchecker =str(temp['cust'])+str(temp['prod'])\n",
      "\tif (MFMap.get(checker))== None:\n",
      "\t\tMFVector[MF_idx]['cust']=temp['cust']\n",
      "\t\tMFVector[MF_idx]['prod']=temp['prod']\n",
      "\t\tMFMap[str(temp['cust'])]=MF_idx\n",
      "\t\tMFMap[str(temp['cust']) + str(temp['prod'])]=MF_idx\n",
      "\t\tMFMap[str(temp['prod']) + str(temp['cust'])]=MF_idx\n",
      "\t\tMFMap[str(temp['prod'])]=MF_idx\n",
      "\t\tMF_idx+=1 # new idx\n",
      "\n",
      "\n",
      "# Updating for MF_Structure\n",
      "for groupingvariable in ['1', '2', '3']:\n",
      "\tif (groupingvariable) == '1':\n",
      "\t\tfor i in range(len(dataItems)):\n",
      "\t\t\ttemp = {x[0]:x[1] for x in zip(['cust', 'prod', 'day', 'month', 'year', 'state', 'quant'],dataItems[i])}\n",
      "\t\t\tindex = MFMap[str(temp['cust'])]\n",
      "\t\t\tif ((temp['cust']==MFVector[index]['cust']) and (temp['state']=='NY')):\n",
      "\t\t\t\tMFVector[index]['1_count_quant']+=1\n",
      "\t\t\t\tMFVector[index]['1_sum_quant']+=temp['quant']\n",
      "\t\t\t\tMFVector[index]['1_avg_quant']=MFVector[index]['1_sum_quant']/MFVector[index]['1_count_quant']\n",
      "\n",
      "\tif (groupingvariable) == '2':\n",
      "\t\tfor i in range(len(dataItems)):\n",
      "\t\t\ttemp = {x[0]:x[1] for x in zip(['cust', 'prod', 'day', 'month', 'year', 'state', 'quant'],dataItems[i])}\n",
      "\t\t\tindex = MFMap[str(temp['cust'])]\n",
      "\t\t\tif ((temp['cust']==MFVector[index]['cust']) and (temp['state']=='CT')):\n",
      "\t\t\t\tMFVector[index]['2_count_quant']+=1\n",
      "\t\t\t\tMFVector[index]['2_sum_quant']+=temp['quant']\n",
      "\t\t\t\tMFVector[index]['2_avg_quant']=MFVector[index]['2_sum_quant']/MFVector[index]['2_count_quant']\n",
      "\n",
      "\tif (groupingvariable) == '3':\n",
      "\t\tfor i in range(len(dataItems)):\n",
      "\t\t\ttemp = {x[0]:x[1] for x in zip(['cust', 'prod', 'day', 'month', 'year', 'state', 'quant'],dataItems[i])}\n",
      "\t\t\tindex = MFMap[str(temp['cust'])]\n",
      "\t\t\tif ((temp['cust']==MFVector[index]['cust']) and (temp['state']=='NJ')):\n",
      "\t\t\t\tMFVector[index]['3_count_quant']+=1\n",
      "\t\t\t\tMFVector[index]['3_sum_quant']+=temp['quant']\n",
      "\t\t\t\tMFVector[index]['3_avg_quant']=MFVector[index]['3_sum_quant']/MFVector[index]['3_count_quant']\n",
      "\n",
      "\n",
      "# Outputing\n",
      "print('='*100)\n",
      "print('{:<8}|{:>17}|{:>17}|{:>17}|{:>17}|{:>17}|{:>17}|{:>17}|'.format('index','cust','prod','1_sum_quant','1_count_quant','1_avg_quant','2_sum_quant','3_sum_quant'))\n",
      "print('='*100)\n",
      "# Having\n",
      "output=0\n",
      "for index in range(len(MFVector)):\n",
      "\t if MFVector[index]['1_avg_quant']>MFVector[index]['2_avg_quant'] and MFVector[index]['1_avg_quant']>=MFVector[index]['3_avg_quant']:\n",
      "\t\t\toutput += 1\n",
      "\t\t\tprint(end='{:<6}|'.format(output))\n",
      "\n",
      "\t\t\tprint('{:<17}|'.format(MFVector[index]['cust']), end='')\n",
      "\t\t\tprint('{:<17}|'.format(MFVector[index]['prod']), end='')\n",
      "\t\t\tprint('{:>17.2f}|'.format(MFVector[index]['1_sum_quant']), end='')\n",
      "\t\t\tprint('{:>17.0f}|'.format(MFVector[index]['1_count_quant']), end='')\n",
      "\t\t\tprint('{:>17.2f}|'.format(MFVector[index]['1_avg_quant']), end='')\n",
      "\t\t\tprint('{:>17.2f}|'.format(MFVector[index]['2_sum_quant']), end='')\n",
      "\t\t\tprint('{:>17.2f}|'.format(MFVector[index]['3_sum_quant']), end='')\n",
      "\t\t\tprint('')\n",
      "\n"
     ]
    }
   ],
   "source": [
    "#the output file will be updated as the input changes. refresh the output.py file\n",
    "with open('output.py', 'w') as f:\n",
    "    f.write(myresult)\n",
    "v = open(\"output.py\", \"r\")\n",
    "finaldata = v.read()\n",
    "print(finaldata)"
   ]
  },
  {
   "cell_type": "markdown",
   "metadata": {},
   "source": [
    "# copying the whole output file from \"output.py\" and pasting it here \n",
    "#as our output file is .py and jupyter notebook support extenstion .ipynb we are running out output file here \n",
    "#due ti security reason we cannot save our out with .ipynb extension for code \n",
    "#thus,need to run in jupyter notebook we need to copy and paste thr output.py file"
   ]
  },
  {
   "cell_type": "code",
   "execution_count": 33,
   "metadata": {},
   "outputs": [
    {
     "name": "stdout",
     "output_type": "stream",
     "text": [
      "====================================================================================================\n",
      "index   |             cust|             prod|      1_sum_quant|    1_count_quant|      1_avg_quant|      2_sum_quant|      3_sum_quant|\n",
      "====================================================================================================\n",
      "1     |Knuth            |Butter           |         89584.00|               36|          2488.44|        114824.00|         85714.00|\n",
      "2     |Bloom            |Bread            |         84480.00|               32|          2640.00|        123326.00|        137394.00|\n"
     ]
    }
   ],
   "source": [
    "# Import and Connecting DB\n",
    "import psycopg2\n",
    "import sys\n",
    "from collections import defaultdict\n",
    "\n",
    "try:\n",
    "    connection = psycopg2.connect(user='postgres', password='yash1712', host='localhost', port='5432', database='DBMS2', )\n",
    "    query = \"SELECT * FROM sales\"\n",
    "    pointer = connection.cursor()\n",
    "    pointer.execute(query)\n",
    "    if (pointer.rowcount) == 0:\n",
    "        print(\"Connection failed !\")\n",
    "        sys.exit(0)\n",
    "                    \n",
    "    dataItems = pointer.fetchall()\n",
    "except(Exception, psycopg2.Error) as error:\n",
    "    print(\"Connection failed to database ==>\", error)\n",
    "    sys.exit(0)\n",
    "\n",
    "                    \n",
    "# Initializing MF_Vector\n",
    "MFVector = defaultdict(lambda: {'cust': '', 'prod': '', '1_sum_quant': 0.0, '1_avg_quant': 0.0, '1_count_quant': 0, '2_avg_quant': 0.0, '2_sum_quant': 0.0, '2_count_quant': 0, '3_sum_quant': 0.0, '3_avg_quant': 0.0, '3_count_quant': 0})\n",
    "MF_idx=0\n",
    "MFMap = {}\n",
    "\n",
    "# Initializing Map for MF_Structure\n",
    "for i in range(len(dataItems)):\n",
    "\ttemp = {x[0]:x[1] for x in zip(['cust', 'prod', 'day', 'month', 'year', 'state', 'quant'],dataItems[i])}\n",
    "\n",
    "\tchecker =str(temp['cust'])+str(temp['prod'])\n",
    "\tif (MFMap.get(checker))== None:\n",
    "\t\tMFVector[MF_idx]['cust']=temp['cust']\n",
    "\t\tMFVector[MF_idx]['prod']=temp['prod']\n",
    "\t\tMFMap[str(temp['cust'])]=MF_idx\n",
    "\t\tMFMap[str(temp['cust']) + str(temp['prod'])]=MF_idx\n",
    "\t\tMFMap[str(temp['prod']) + str(temp['cust'])]=MF_idx\n",
    "\t\tMFMap[str(temp['prod'])]=MF_idx\n",
    "\t\tMF_idx+=1 # new idx\n",
    "\n",
    "\n",
    "# Updating for MF_Structure\n",
    "for groupingvariable in ['1', '2', '3']:\n",
    "\tif (groupingvariable) == '1':\n",
    "\t\tfor i in range(len(dataItems)):\n",
    "\t\t\ttemp = {x[0]:x[1] for x in zip(['cust', 'prod', 'day', 'month', 'year', 'state', 'quant'],dataItems[i])}\n",
    "\t\t\tindex = MFMap[str(temp['cust'])]\n",
    "\t\t\tif ((temp['cust']==MFVector[index]['cust']) and (temp['state']=='NY')):\n",
    "\t\t\t\tMFVector[index]['1_count_quant']+=1\n",
    "\t\t\t\tMFVector[index]['1_sum_quant']+=temp['quant']\n",
    "\t\t\t\tMFVector[index]['1_avg_quant']=MFVector[index]['1_sum_quant']/MFVector[index]['1_count_quant']\n",
    "\n",
    "\tif (groupingvariable) == '2':\n",
    "\t\tfor i in range(len(dataItems)):\n",
    "\t\t\ttemp = {x[0]:x[1] for x in zip(['cust', 'prod', 'day', 'month', 'year', 'state', 'quant'],dataItems[i])}\n",
    "\t\t\tindex = MFMap[str(temp['cust'])]\n",
    "\t\t\tif ((temp['cust']==MFVector[index]['cust']) and (temp['state']=='CT')):\n",
    "\t\t\t\tMFVector[index]['2_count_quant']+=1\n",
    "\t\t\t\tMFVector[index]['2_sum_quant']+=temp['quant']\n",
    "\t\t\t\tMFVector[index]['2_avg_quant']=MFVector[index]['2_sum_quant']/MFVector[index]['2_count_quant']\n",
    "\n",
    "\tif (groupingvariable) == '3':\n",
    "\t\tfor i in range(len(dataItems)):\n",
    "\t\t\ttemp = {x[0]:x[1] for x in zip(['cust', 'prod', 'day', 'month', 'year', 'state', 'quant'],dataItems[i])}\n",
    "\t\t\tindex = MFMap[str(temp['cust'])]\n",
    "\t\t\tif ((temp['cust']==MFVector[index]['cust']) and (temp['state']=='NJ')):\n",
    "\t\t\t\tMFVector[index]['3_count_quant']+=1\n",
    "\t\t\t\tMFVector[index]['3_sum_quant']+=temp['quant']\n",
    "\t\t\t\tMFVector[index]['3_avg_quant']=MFVector[index]['3_sum_quant']/MFVector[index]['3_count_quant']\n",
    "\n",
    "\n",
    "# Outputing\n",
    "print('='*100)\n",
    "print('{:<8}|{:>17}|{:>17}|{:>17}|{:>17}|{:>17}|{:>17}|{:>17}|'.format('index','cust','prod','1_sum_quant','1_count_quant','1_avg_quant','2_sum_quant','3_sum_quant'))\n",
    "print('='*100)\n",
    "# Having\n",
    "output=0\n",
    "for index in range(len(MFVector)):\n",
    "\t if MFVector[index]['1_avg_quant']>MFVector[index]['2_avg_quant'] and MFVector[index]['1_avg_quant']>=MFVector[index]['3_avg_quant']:\n",
    "\t\t\toutput += 1\n",
    "\t\t\tprint(end='{:<6}|'.format(output))\n",
    "\n",
    "\t\t\tprint('{:<17}|'.format(MFVector[index]['cust']), end='')\n",
    "\t\t\tprint('{:<17}|'.format(MFVector[index]['prod']), end='')\n",
    "\t\t\tprint('{:>17.2f}|'.format(MFVector[index]['1_sum_quant']), end='')\n",
    "\t\t\tprint('{:>17.0f}|'.format(MFVector[index]['1_count_quant']), end='')\n",
    "\t\t\tprint('{:>17.2f}|'.format(MFVector[index]['1_avg_quant']), end='')\n",
    "\t\t\tprint('{:>17.2f}|'.format(MFVector[index]['2_sum_quant']), end='')\n",
    "\t\t\tprint('{:>17.2f}|'.format(MFVector[index]['3_sum_quant']), end='')\n",
    "\t\t\tprint('')\n"
   ]
  },
  {
   "cell_type": "code",
   "execution_count": null,
   "metadata": {},
   "outputs": [],
   "source": []
  }
 ],
 "metadata": {
  "kernelspec": {
   "display_name": "Python 3",
   "language": "python",
   "name": "python3"
  },
  "language_info": {
   "codemirror_mode": {
    "name": "ipython",
    "version": 3
   },
   "file_extension": ".py",
   "mimetype": "text/x-python",
   "name": "python",
   "nbconvert_exporter": "python",
   "pygments_lexer": "ipython3",
   "version": "3.8.5"
  }
 },
 "nbformat": 4,
 "nbformat_minor": 4
}
